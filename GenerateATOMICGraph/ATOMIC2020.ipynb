{
 "cells": [
  {
   "cell_type": "code",
   "execution_count": 19,
   "id": "9094061c",
   "metadata": {},
   "outputs": [],
   "source": [
    "import networkx as nx\n",
    "import pandas as pd\n",
    "import numpy as np\n",
    "import json"
   ]
  },
  {
   "cell_type": "code",
   "execution_count": 20,
   "id": "7803baa2",
   "metadata": {},
   "outputs": [],
   "source": [
    "data_usage = 'test'"
   ]
  },
  {
   "cell_type": "markdown",
   "id": "ab7ce28c",
   "metadata": {},
   "source": [
    "Maarten Sap, Ronan LeBras, Emily Allaway, Chandra Bhagavatula, Nicholas Lourie, Hannah Rashkin, Brendan Roof, Noah A. Smith & Yejin Choi (2019).ATOMIC: An Atlas of Machine Commonsense for If-Then Reasoning. AAAI"
   ]
  },
  {
   "cell_type": "code",
   "execution_count": 21,
   "id": "99ea987f",
   "metadata": {},
   "outputs": [],
   "source": [
    "df = pd.read_csv(\"../Data/\"+data_usage+\"_new.tsv\",sep='\\t')"
   ]
  },
  {
   "cell_type": "code",
   "execution_count": 22,
   "id": "5a0c13c9",
   "metadata": {},
   "outputs": [
    {
     "data": {
      "text/html": [
       "<div>\n",
       "<style scoped>\n",
       "    .dataframe tbody tr th:only-of-type {\n",
       "        vertical-align: middle;\n",
       "    }\n",
       "\n",
       "    .dataframe tbody tr th {\n",
       "        vertical-align: top;\n",
       "    }\n",
       "\n",
       "    .dataframe thead th {\n",
       "        text-align: right;\n",
       "    }\n",
       "</style>\n",
       "<table border=\"1\" class=\"dataframe\">\n",
       "  <thead>\n",
       "    <tr style=\"text-align: right;\">\n",
       "      <th></th>\n",
       "      <th>head_event</th>\n",
       "      <th>relation</th>\n",
       "      <th>tail_event</th>\n",
       "    </tr>\n",
       "  </thead>\n",
       "  <tbody>\n",
       "    <tr>\n",
       "      <th>0</th>\n",
       "      <td>PersonX abuses PersonX's power</td>\n",
       "      <td>oEffect</td>\n",
       "      <td>are told what to do</td>\n",
       "    </tr>\n",
       "    <tr>\n",
       "      <th>1</th>\n",
       "      <td>PersonX abuses PersonX's power</td>\n",
       "      <td>oEffect</td>\n",
       "      <td>given unfair consequences or punishment</td>\n",
       "    </tr>\n",
       "    <tr>\n",
       "      <th>2</th>\n",
       "      <td>PersonX abuses PersonX's power</td>\n",
       "      <td>oEffect</td>\n",
       "      <td>reach out for help</td>\n",
       "    </tr>\n",
       "    <tr>\n",
       "      <th>3</th>\n",
       "      <td>PersonX abuses PersonX's power</td>\n",
       "      <td>oReact</td>\n",
       "      <td>humiliated</td>\n",
       "    </tr>\n",
       "    <tr>\n",
       "      <th>4</th>\n",
       "      <td>PersonX abuses PersonX's power</td>\n",
       "      <td>oReact</td>\n",
       "      <td>sad</td>\n",
       "    </tr>\n",
       "    <tr>\n",
       "      <th>...</th>\n",
       "      <td>...</td>\n",
       "      <td>...</td>\n",
       "      <td>...</td>\n",
       "    </tr>\n",
       "    <tr>\n",
       "      <th>90026</th>\n",
       "      <td>PersonX gets in PersonY's car</td>\n",
       "      <td>HinderedBy</td>\n",
       "      <td>PersonX doesn't know which car belongs to PersonY</td>\n",
       "    </tr>\n",
       "    <tr>\n",
       "      <th>90027</th>\n",
       "      <td>PersonX packs PersonY's things</td>\n",
       "      <td>HinderedBy</td>\n",
       "      <td>PersonY's mother has already packed all of Per...</td>\n",
       "    </tr>\n",
       "    <tr>\n",
       "      <th>90028</th>\n",
       "      <td>PersonX speaks PersonY's name</td>\n",
       "      <td>HinderedBy</td>\n",
       "      <td>PersonX does not know PersonY's name</td>\n",
       "    </tr>\n",
       "    <tr>\n",
       "      <th>90029</th>\n",
       "      <td>PersonX brings PersonY news</td>\n",
       "      <td>HinderedBy</td>\n",
       "      <td>PersonX's news pertains to an ongoing lawsuit ...</td>\n",
       "    </tr>\n",
       "    <tr>\n",
       "      <th>90030</th>\n",
       "      <td>PersonX writes short stories</td>\n",
       "      <td>HinderedBy</td>\n",
       "      <td>PersonX's hands shake so much that she cannot ...</td>\n",
       "    </tr>\n",
       "  </tbody>\n",
       "</table>\n",
       "<p>90031 rows × 3 columns</p>\n",
       "</div>"
      ],
      "text/plain": [
       "                           head_event    relation  \\\n",
       "0      PersonX abuses PersonX's power     oEffect   \n",
       "1      PersonX abuses PersonX's power     oEffect   \n",
       "2      PersonX abuses PersonX's power     oEffect   \n",
       "3      PersonX abuses PersonX's power      oReact   \n",
       "4      PersonX abuses PersonX's power      oReact   \n",
       "...                               ...         ...   \n",
       "90026   PersonX gets in PersonY's car  HinderedBy   \n",
       "90027  PersonX packs PersonY's things  HinderedBy   \n",
       "90028   PersonX speaks PersonY's name  HinderedBy   \n",
       "90029     PersonX brings PersonY news  HinderedBy   \n",
       "90030    PersonX writes short stories  HinderedBy   \n",
       "\n",
       "                                              tail_event  \n",
       "0                                    are told what to do  \n",
       "1                given unfair consequences or punishment  \n",
       "2                                     reach out for help  \n",
       "3                                             humiliated  \n",
       "4                                                    sad  \n",
       "...                                                  ...  \n",
       "90026  PersonX doesn't know which car belongs to PersonY  \n",
       "90027  PersonY's mother has already packed all of Per...  \n",
       "90028               PersonX does not know PersonY's name  \n",
       "90029  PersonX's news pertains to an ongoing lawsuit ...  \n",
       "90030  PersonX's hands shake so much that she cannot ...  \n",
       "\n",
       "[90031 rows x 3 columns]"
      ]
     },
     "execution_count": 22,
     "metadata": {},
     "output_type": "execute_result"
    }
   ],
   "source": [
    "df"
   ]
  },
  {
   "cell_type": "code",
   "execution_count": 23,
   "id": "ab47fbc2",
   "metadata": {},
   "outputs": [],
   "source": [
    "G = nx.MultiDiGraph()"
   ]
  },
  {
   "cell_type": "code",
   "execution_count": 24,
   "id": "2a74eef4",
   "metadata": {},
   "outputs": [
    {
     "name": "stdout",
     "output_type": "stream",
     "text": [
      "finished:  50000\n"
     ]
    }
   ],
   "source": [
    "print_cnt = 50000\n",
    "cnt = 0\n",
    "if data_usage == 'train':\n",
    "    for index, row in df.iterrows():\n",
    "        G.add_edge(row['head_event'], row['tail_event'], relation={row['relation']:1.0}, dataset = \"atomic2020\", split = \"trn\")\n",
    "        cnt+=1\n",
    "        if cnt % print_cnt == 0:\n",
    "            print('finished: ', cnt)\n",
    "elif data_usage == 'dev':\n",
    "    for index, row in df.iterrows():\n",
    "        G.add_edge(row['head_event'], row['tail_event'], relation={row['relation']:1.0}, dataset = \"atomic2020\", split = \"dev\")\n",
    "        cnt+=1\n",
    "        if cnt % print_cnt == 0:\n",
    "            print('finished: ', cnt)\n",
    "elif data_usage == 'test':\n",
    "    for index, row in df.iterrows():\n",
    "        G.add_edge(row['head_event'], row['tail_event'], relation={row['relation']:1.0}, dataset = \"atomic2020\", split = \"tst\")\n",
    "        cnt+=1\n",
    "        if cnt % print_cnt == 0:\n",
    "            print('finished: ', cnt)"
   ]
  },
  {
   "cell_type": "code",
   "execution_count": 25,
   "id": "06a099ee",
   "metadata": {},
   "outputs": [],
   "source": [
    "rm_nodes = []\n",
    "for node in G.nodes:\n",
    "    if type(node) != str:\n",
    "        rm_nodes.append(node)\n",
    "for node in rm_nodes:\n",
    "    G.remove_node(node)"
   ]
  },
  {
   "cell_type": "code",
   "execution_count": 26,
   "id": "0d02111f",
   "metadata": {},
   "outputs": [],
   "source": [
    "nx.write_gml(G, 'ATOMIC2020_14Relations_{}.gml'.format(data_usage))"
   ]
  },
  {
   "cell_type": "code",
   "execution_count": null,
   "id": "47277cc6",
   "metadata": {},
   "outputs": [],
   "source": []
  }
 ],
 "metadata": {
  "kernelspec": {
   "display_name": "Python 3 (ipykernel)",
   "language": "python",
   "name": "python3"
  },
  "language_info": {
   "codemirror_mode": {
    "name": "ipython",
    "version": 3
   },
   "file_extension": ".py",
   "mimetype": "text/x-python",
   "name": "python",
   "nbconvert_exporter": "python",
   "pygments_lexer": "ipython3",
   "version": "3.9.7"
  },
  "vscode": {
   "interpreter": {
    "hash": "e57d895f839bb6398cc8f8c04e6925ef3b12b7114b1d94dfa028d2b26fdde0af"
   }
  }
 },
 "nbformat": 4,
 "nbformat_minor": 5
}
