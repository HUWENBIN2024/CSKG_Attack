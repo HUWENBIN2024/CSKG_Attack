{
 "cells": [
  {
   "cell_type": "code",
   "execution_count": 1,
   "metadata": {},
   "outputs": [],
   "source": [
    "import numpy as np\n",
    "import networkx as nx\n",
    "import matplotlib.pyplot as plt\n",
    "import pandas as pd\n",
    "from SampleSubgraph import *"
   ]
  },
  {
   "cell_type": "code",
   "execution_count": 2,
   "metadata": {},
   "outputs": [],
   "source": [
    "G = nx.read_gml('./GenerateATOMICGraph/ATOMIC2020_14Relations.gml')\n",
    "sample_ratio = 0.1"
   ]
  },
  {
   "cell_type": "code",
   "execution_count": 3,
   "metadata": {},
   "outputs": [],
   "source": [
    "sample_ratios = [0.01, 0.1, 0.25, 0.5, 1]\n",
    "for sample_ratio in sample_ratios:\n",
    "    head_events, head_relations, tail_events, tail_relations = genTsvDependency(G, sample_ratio)\n",
    "    types_head = ['head'for _ in range(len(head_events))]\n",
    "    types_tail = ['tail'for _ in range(len(tail_events))]\n",
    "    sample = {\n",
    "        'Event':head_events+tail_events,\n",
    "        'EventType':types_head+types_tail,\n",
    "        'Relations':head_relations+tail_relations, \n",
    "        \n",
    "    }\n",
    "    df = pd.DataFrame(sample)\n",
    "    df.to_csv('./SubGraphs/sampleTrainRatio{}.tsv'.format(sample_ratio), sep='\\t')"
   ]
  },
  {
   "cell_type": "code",
   "execution_count": null,
   "metadata": {},
   "outputs": [],
   "source": []
  }
 ],
 "metadata": {
  "kernelspec": {
   "display_name": "Python 3 (ipykernel)",
   "language": "python",
   "name": "python3"
  },
  "language_info": {
   "codemirror_mode": {
    "name": "ipython",
    "version": 3
   },
   "file_extension": ".py",
   "mimetype": "text/x-python",
   "name": "python",
   "nbconvert_exporter": "python",
   "pygments_lexer": "ipython3",
   "version": "3.9.7"
  },
  "vscode": {
   "interpreter": {
    "hash": "e57d895f839bb6398cc8f8c04e6925ef3b12b7114b1d94dfa028d2b26fdde0af"
   }
  }
 },
 "nbformat": 4,
 "nbformat_minor": 2
}
