{
 "cells": [
  {
   "cell_type": "code",
   "execution_count": 9,
   "metadata": {},
   "outputs": [],
   "source": [
    "import networkx as nx\n",
    "import numpy as np\n",
    "import pandas as pd"
   ]
  },
  {
   "cell_type": "code",
   "execution_count": 10,
   "metadata": {},
   "outputs": [],
   "source": [
    "def genKGBERTSageDataFromGraph(G=nx.MultiDiGraph(), datasetUsage='Train'):\n",
    "\n",
    "    all_nodes = list(nx.nodes(G))\n",
    "    all_edges = list(nx.edges(G))\n",
    "\n",
    "    id2node = dict(enumerate(all_nodes,1))\n",
    "    node2id = {node: i for i, node in enumerate(all_nodes,1)}\n",
    "    id2edge = dict(enumerate(all_edges,1))\n",
    "    edge2id = {edge: i for i, edge in enumerate(all_edges,1)}\n",
    "    np.save('./KGBertSageData/ID2NODE_{}.npy'.format(datasetUsage), id2node,allow_pickle=True)\n",
    "    np.save( './KGBertSageData/NODE2ID_{}.npy'.format(datasetUsage), node2id,allow_pickle=True)\n",
    "    np.save( './KGBertSageData/ID2EDGE_{}.npy'.format(datasetUsage),id2edge,allow_pickle=True)\n",
    "    np.save( './KGBertSageData/EDGE2ID_{}.npy'.format(datasetUsage),edge2id,allow_pickle=True)\n",
    "\n",
    "    edgeid2relation = {}\n",
    "    for edgeID in list(id2edge.keys()):\n",
    "        relation = G.get_edge_data(id2edge[edgeID][0],id2edge[edgeID][1])\n",
    "        edgeid2relation[edgeID] = relation\n",
    "\n",
    "    np.save( './KGBertSageData/EDGEID2Relation_{}.npy'.format(datasetUsage),edgeid2relation,allow_pickle=True)\n",
    "\n",
    "    node_id = list(np.arange(len(all_nodes))+1)\n",
    "    node = all_nodes\n",
    "\n",
    "    neighbor_edge = []\n",
    "\n",
    "    for each_node in all_nodes:\n",
    "        its_edges = []\n",
    "        its_tail = list(G.successors(each_node))\n",
    "        its_head = list(G.predecessors(each_node))\n",
    "        for each_its_tail in its_tail:\n",
    "            its_edges.append(edge2id[(each_node, each_its_tail)])\n",
    "        for each_its_head in its_head:\n",
    "            its_edges.append(edge2id[(each_its_head, each_node)])\n",
    "        neighbor_edge.append(its_edges)\n",
    "    \n",
    "    sample = {\n",
    "        'Node_ID': node_id,\n",
    "        'Node': node,\n",
    "        'Neighbor_Edge': neighbor_edge,\n",
    "    }\n",
    "\n",
    "    df = pd.DataFrame(sample)\n",
    "    df.to_csv('./KGBertSageData/KGBertSageData_{}.tsv'.format(datasetUsage), sep='\\t',index=False)"
   ]
  },
  {
   "cell_type": "code",
   "execution_count": 11,
   "metadata": {},
   "outputs": [],
   "source": [
    "G = nx.read_gml('./GenerateATOMICGraph/ATOMIC2020_14Relations_dev.gml')"
   ]
  },
  {
   "cell_type": "code",
   "execution_count": 12,
   "metadata": {},
   "outputs": [],
   "source": [
    "genKGBERTSageDataFromGraph(G,'Dev')"
   ]
  }
 ],
 "metadata": {
  "kernelspec": {
   "display_name": "Python 3.9.7 ('base')",
   "language": "python",
   "name": "python3"
  },
  "language_info": {
   "codemirror_mode": {
    "name": "ipython",
    "version": 3
   },
   "file_extension": ".py",
   "mimetype": "text/x-python",
   "name": "python",
   "nbconvert_exporter": "python",
   "pygments_lexer": "ipython3",
   "version": "3.9.7"
  },
  "orig_nbformat": 4,
  "vscode": {
   "interpreter": {
    "hash": "e57d895f839bb6398cc8f8c04e6925ef3b12b7114b1d94dfa028d2b26fdde0af"
   }
  }
 },
 "nbformat": 4,
 "nbformat_minor": 2
}
